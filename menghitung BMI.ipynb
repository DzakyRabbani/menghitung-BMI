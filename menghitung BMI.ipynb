{
 "cells": [
  {
   "cell_type": "code",
   "execution_count": 5,
   "metadata": {},
   "outputs": [
    {
     "name": "stdout",
     "output_type": "stream",
     "text": [
      "Masukan Tinggi Badan Anda (cm): 168\n",
      "Masukan Berat Badan Anda (kg) :56\n",
      "===================================\n",
      "BMI = 19.841269841269845\n",
      "status : Berat Badan Ideal\n",
      "===================================\n"
     ]
    }
   ],
   "source": [
    "ting = float(input(\"Masukan Tinggi Badan Anda (cm): \"))\n",
    "ber = float(input(\"Masukan Berat Badan Anda (kg) :\"))\n",
    "ting = ting * 0.01\n",
    "bmi = ber/(ting**2)\n",
    "\n",
    "if bmi < 18.5 :\n",
    "    print(\"===================================\")\n",
    "    print(\"BMI =\", bmi )\n",
    "    print(\"status : Kekurangan Berat Badan\")\n",
    "    print(\"===================================\")\n",
    "elif bmi > 18.5 and bmi < 24.9 :\n",
    "    print(\"===================================\")\n",
    "    print(\"BMI =\", bmi )\n",
    "    print(\"status : Berat Badan Ideal\")\n",
    "    print(\"===================================\")\n",
    "else:\n",
    "    print(\"===================================\")\n",
    "    print(\"BMI =\", bmi )\n",
    "    print(\"status : Kelebihan Berat Badan\")\n",
    "    print(\"===================================\")"
   ]
  }
 ],
 "metadata": {
  "kernelspec": {
   "display_name": "Python 3",
   "language": "python",
   "name": "python3"
  },
  "language_info": {
   "codemirror_mode": {
    "name": "ipython",
    "version": 3
   },
   "file_extension": ".py",
   "mimetype": "text/x-python",
   "name": "python",
   "nbconvert_exporter": "python",
   "pygments_lexer": "ipython3",
   "version": "3.7.1"
  }
 },
 "nbformat": 4,
 "nbformat_minor": 2
}
